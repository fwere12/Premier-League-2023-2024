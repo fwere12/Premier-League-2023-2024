{
 "cells": [
  {
   "cell_type": "code",
   "execution_count": 1,
   "id": "9e8b11cb-cf00-4abb-9653-a00983293fd9",
   "metadata": {},
   "outputs": [],
   "source": [
    "import pandas as pd\n",
    "import numpy as np\n",
    "import seaborn as sns\n",
    "import matplotlib.pyplot as plt"
   ]
  },
  {
   "cell_type": "code",
   "execution_count": 3,
   "id": "643f3dd3-5806-4466-ba1b-8f069be7be01",
   "metadata": {},
   "outputs": [
    {
     "data": {
      "text/html": [
       "<div>\n",
       "<style scoped>\n",
       "    .dataframe tbody tr th:only-of-type {\n",
       "        vertical-align: middle;\n",
       "    }\n",
       "\n",
       "    .dataframe tbody tr th {\n",
       "        vertical-align: top;\n",
       "    }\n",
       "\n",
       "    .dataframe thead th {\n",
       "        text-align: right;\n",
       "    }\n",
       "</style>\n",
       "<table border=\"1\" class=\"dataframe\">\n",
       "  <thead>\n",
       "    <tr style=\"text-align: right;\">\n",
       "      <th></th>\n",
       "      <th>round_number</th>\n",
       "      <th>league_name</th>\n",
       "      <th>name</th>\n",
       "      <th>starting_at</th>\n",
       "      <th>home_team_name</th>\n",
       "      <th>away_team_name</th>\n",
       "      <th>home_team_goals</th>\n",
       "      <th>away_team_goals</th>\n",
       "    </tr>\n",
       "  </thead>\n",
       "  <tbody>\n",
       "    <tr>\n",
       "      <th>0</th>\n",
       "      <td>1</td>\n",
       "      <td>Premier League</td>\n",
       "      <td>Burnley vs Manchester City</td>\n",
       "      <td>8/11/2023</td>\n",
       "      <td>Burnley</td>\n",
       "      <td>Manchester City</td>\n",
       "      <td>0</td>\n",
       "      <td>3</td>\n",
       "    </tr>\n",
       "    <tr>\n",
       "      <th>1</th>\n",
       "      <td>1</td>\n",
       "      <td>Premier League</td>\n",
       "      <td>Arsenal vs Nottingham Forest</td>\n",
       "      <td>8/12/2023</td>\n",
       "      <td>Arsenal</td>\n",
       "      <td>Nottingham Forest</td>\n",
       "      <td>2</td>\n",
       "      <td>1</td>\n",
       "    </tr>\n",
       "    <tr>\n",
       "      <th>2</th>\n",
       "      <td>1</td>\n",
       "      <td>Premier League</td>\n",
       "      <td>AFC Bournemouth vs West Ham United</td>\n",
       "      <td>8/12/2023</td>\n",
       "      <td>AFC Bournemouth</td>\n",
       "      <td>West Ham United</td>\n",
       "      <td>1</td>\n",
       "      <td>1</td>\n",
       "    </tr>\n",
       "    <tr>\n",
       "      <th>3</th>\n",
       "      <td>1</td>\n",
       "      <td>Premier League</td>\n",
       "      <td>Brighton &amp; Hove Albion vs Luton Town</td>\n",
       "      <td>8/12/2023</td>\n",
       "      <td>Brighton &amp; Hove Albion</td>\n",
       "      <td>Luton Town</td>\n",
       "      <td>4</td>\n",
       "      <td>1</td>\n",
       "    </tr>\n",
       "    <tr>\n",
       "      <th>4</th>\n",
       "      <td>1</td>\n",
       "      <td>Premier League</td>\n",
       "      <td>Everton vs Fulham</td>\n",
       "      <td>8/12/2023</td>\n",
       "      <td>Everton</td>\n",
       "      <td>Fulham</td>\n",
       "      <td>0</td>\n",
       "      <td>1</td>\n",
       "    </tr>\n",
       "  </tbody>\n",
       "</table>\n",
       "</div>"
      ],
      "text/plain": [
       "   round_number     league_name                                  name  \\\n",
       "0             1  Premier League            Burnley vs Manchester City   \n",
       "1             1  Premier League          Arsenal vs Nottingham Forest   \n",
       "2             1  Premier League    AFC Bournemouth vs West Ham United   \n",
       "3             1  Premier League  Brighton & Hove Albion vs Luton Town   \n",
       "4             1  Premier League                     Everton vs Fulham   \n",
       "\n",
       "  starting_at          home_team_name     away_team_name  home_team_goals  \\\n",
       "0   8/11/2023                 Burnley    Manchester City                0   \n",
       "1   8/12/2023                 Arsenal  Nottingham Forest                2   \n",
       "2   8/12/2023         AFC Bournemouth    West Ham United                1   \n",
       "3   8/12/2023  Brighton & Hove Albion         Luton Town                4   \n",
       "4   8/12/2023                 Everton             Fulham                0   \n",
       "\n",
       "   away_team_goals  \n",
       "0                3  \n",
       "1                1  \n",
       "2                1  \n",
       "3                1  \n",
       "4                1  "
      ]
     },
     "execution_count": 3,
     "metadata": {},
     "output_type": "execute_result"
    }
   ],
   "source": [
    "#Uploading the dataset\n",
    "df = pd.read_csv(r\"C:\\Users\\Administrator\\Desktop\\PremierLeague.csv\")\n",
    "df.head(5)"
   ]
  },
  {
   "cell_type": "code",
   "execution_count": 4,
   "id": "460fb916-4bf3-4336-909f-586d99db0d68",
   "metadata": {},
   "outputs": [
    {
     "data": {
      "text/plain": [
       "round_number        int64\n",
       "league_name        object\n",
       "name               object\n",
       "starting_at        object\n",
       "home_team_name     object\n",
       "away_team_name     object\n",
       "home_team_goals     int64\n",
       "away_team_goals     int64\n",
       "dtype: object"
      ]
     },
     "execution_count": 4,
     "metadata": {},
     "output_type": "execute_result"
    }
   ],
   "source": [
    "#data types\n",
    "df.dtypes"
   ]
  },
  {
   "cell_type": "code",
   "execution_count": 6,
   "id": "c3087f9d-8be4-41ee-8e5d-f4d0989bbeab",
   "metadata": {},
   "outputs": [
    {
     "name": "stdout",
     "output_type": "stream",
     "text": [
      "<class 'pandas.core.frame.DataFrame'>\n",
      "RangeIndex: 380 entries, 0 to 379\n",
      "Data columns (total 8 columns):\n",
      " #   Column           Non-Null Count  Dtype \n",
      "---  ------           --------------  ----- \n",
      " 0   round_number     380 non-null    int64 \n",
      " 1   league_name      380 non-null    object\n",
      " 2   name             380 non-null    object\n",
      " 3   starting_at      380 non-null    object\n",
      " 4   home_team_name   380 non-null    object\n",
      " 5   away_team_name   380 non-null    object\n",
      " 6   home_team_goals  380 non-null    int64 \n",
      " 7   away_team_goals  380 non-null    int64 \n",
      "dtypes: int64(3), object(5)\n",
      "memory usage: 23.9+ KB\n"
     ]
    }
   ],
   "source": [
    "df.info()"
   ]
  },
  {
   "cell_type": "code",
   "execution_count": 7,
   "id": "856939ed-1b66-4338-b31b-c662f7725e4e",
   "metadata": {},
   "outputs": [
    {
     "data": {
      "text/html": [
       "<div>\n",
       "<style scoped>\n",
       "    .dataframe tbody tr th:only-of-type {\n",
       "        vertical-align: middle;\n",
       "    }\n",
       "\n",
       "    .dataframe tbody tr th {\n",
       "        vertical-align: top;\n",
       "    }\n",
       "\n",
       "    .dataframe thead th {\n",
       "        text-align: right;\n",
       "    }\n",
       "</style>\n",
       "<table border=\"1\" class=\"dataframe\">\n",
       "  <thead>\n",
       "    <tr style=\"text-align: right;\">\n",
       "      <th></th>\n",
       "      <th>count</th>\n",
       "      <th>mean</th>\n",
       "      <th>std</th>\n",
       "      <th>min</th>\n",
       "      <th>25%</th>\n",
       "      <th>50%</th>\n",
       "      <th>75%</th>\n",
       "      <th>max</th>\n",
       "    </tr>\n",
       "  </thead>\n",
       "  <tbody>\n",
       "    <tr>\n",
       "      <th>round_number</th>\n",
       "      <td>380.0</td>\n",
       "      <td>19.500000</td>\n",
       "      <td>10.980313</td>\n",
       "      <td>1.0</td>\n",
       "      <td>10.0</td>\n",
       "      <td>19.5</td>\n",
       "      <td>29.0</td>\n",
       "      <td>38.0</td>\n",
       "    </tr>\n",
       "    <tr>\n",
       "      <th>home_team_goals</th>\n",
       "      <td>380.0</td>\n",
       "      <td>1.800000</td>\n",
       "      <td>1.365616</td>\n",
       "      <td>0.0</td>\n",
       "      <td>1.0</td>\n",
       "      <td>2.0</td>\n",
       "      <td>3.0</td>\n",
       "      <td>6.0</td>\n",
       "    </tr>\n",
       "    <tr>\n",
       "      <th>away_team_goals</th>\n",
       "      <td>380.0</td>\n",
       "      <td>1.478947</td>\n",
       "      <td>1.277811</td>\n",
       "      <td>0.0</td>\n",
       "      <td>1.0</td>\n",
       "      <td>1.0</td>\n",
       "      <td>2.0</td>\n",
       "      <td>8.0</td>\n",
       "    </tr>\n",
       "  </tbody>\n",
       "</table>\n",
       "</div>"
      ],
      "text/plain": [
       "                 count       mean        std  min   25%   50%   75%   max\n",
       "round_number     380.0  19.500000  10.980313  1.0  10.0  19.5  29.0  38.0\n",
       "home_team_goals  380.0   1.800000   1.365616  0.0   1.0   2.0   3.0   6.0\n",
       "away_team_goals  380.0   1.478947   1.277811  0.0   1.0   1.0   2.0   8.0"
      ]
     },
     "execution_count": 7,
     "metadata": {},
     "output_type": "execute_result"
    }
   ],
   "source": [
    "#Summary statistics\n",
    "df.describe().T"
   ]
  },
  {
   "cell_type": "code",
   "execution_count": 8,
   "id": "63a966f8-4291-4346-bf66-b3f3f2267bec",
   "metadata": {},
   "outputs": [
    {
     "data": {
      "text/plain": [
       "round_number       0\n",
       "league_name        0\n",
       "name               0\n",
       "starting_at        0\n",
       "home_team_name     0\n",
       "away_team_name     0\n",
       "home_team_goals    0\n",
       "away_team_goals    0\n",
       "dtype: int64"
      ]
     },
     "execution_count": 8,
     "metadata": {},
     "output_type": "execute_result"
    }
   ],
   "source": [
    "#Checking for missing values in the dataset\n",
    "df.isnull().sum()"
   ]
  },
  {
   "cell_type": "code",
   "execution_count": 9,
   "id": "71ff92a4-2f13-42c2-ab89-08eab589a38e",
   "metadata": {},
   "outputs": [
    {
     "data": {
      "text/plain": [
       "0      False\n",
       "1      False\n",
       "2      False\n",
       "3      False\n",
       "4      False\n",
       "       ...  \n",
       "375    False\n",
       "376    False\n",
       "377    False\n",
       "378    False\n",
       "379    False\n",
       "Length: 380, dtype: bool"
      ]
     },
     "execution_count": 9,
     "metadata": {},
     "output_type": "execute_result"
    }
   ],
   "source": [
    "#Checkling for duplicates i the dataset\n",
    "df.duplicated()"
   ]
  },
  {
   "cell_type": "code",
   "execution_count": null,
   "id": "a75c16b9-5b09-4af1-84bd-3ea28f820129",
   "metadata": {},
   "outputs": [],
   "source": []
  }
 ],
 "metadata": {
  "kernelspec": {
   "display_name": "Python 3 (ipykernel)",
   "language": "python",
   "name": "python3"
  },
  "language_info": {
   "codemirror_mode": {
    "name": "ipython",
    "version": 3
   },
   "file_extension": ".py",
   "mimetype": "text/x-python",
   "name": "python",
   "nbconvert_exporter": "python",
   "pygments_lexer": "ipython3",
   "version": "3.11.7"
  },
  "widgets": {
   "application/vnd.jupyter.widget-state+json": {
    "state": {},
    "version_major": 2,
    "version_minor": 0
   }
  }
 },
 "nbformat": 4,
 "nbformat_minor": 5
}
